{
 "cells": [
  {
   "cell_type": "code",
   "execution_count": 1,
   "metadata": {
    "execution": {
     "iopub.execute_input": "2021-01-12T05:21:13.208332Z",
     "iopub.status.busy": "2021-01-12T05:21:13.207747Z",
     "iopub.status.idle": "2021-01-12T05:21:13.210009Z",
     "shell.execute_reply": "2021-01-12T05:21:13.210562Z"
    }
   },
   "outputs": [],
   "source": [
    "start = '2020-01-01'\n",
    "end = '2020-12-31'\n",
    "ticker = 'SPY'\n",
    "index_ticker = '^DJI'"
   ]
  },
  {
   "cell_type": "code",
   "execution_count": 2,
   "metadata": {
    "execution": {
     "iopub.execute_input": "2021-01-12T05:21:13.216596Z",
     "iopub.status.busy": "2021-01-12T05:21:13.215999Z",
     "iopub.status.idle": "2021-01-12T05:21:14.001256Z",
     "shell.execute_reply": "2021-01-12T05:21:14.000640Z"
    }
   },
   "outputs": [
    {
     "data": {
      "text/html": [
       "<style>.container { width:100% !important; } </style>"
      ],
      "text/plain": [
       "<IPython.core.display.HTML object>"
      ]
     },
     "metadata": {},
     "output_type": "display_data"
    },
    {
     "data": {
      "application/javascript": [
       "\n",
       "        IPython.OutputArea.prototype._should_scroll = function(lines) {\n",
       "            return false;\n",
       "        }\n",
       "    "
      ],
      "text/plain": [
       "<IPython.core.display.Javascript object>"
      ]
     },
     "metadata": {},
     "output_type": "display_data"
    }
   ],
   "source": [
    "import alpha_quant.common.utils.notebook_utils as nbu\n",
    "nbu.set_width_global()\n",
    "nbu.disable_auto_scroll()\n",
    "import alpha_quant.common.env_config as ecfg\n",
    "\n",
    "import matplotlib.pyplot as plt\n",
    "from pandas_datareader.nasdaq_trader import get_nasdaq_symbols\n",
    "import pandas_datareader.data as web\n",
    "\n",
    "import pandas as pd\n",
    "pd.options.display.width = 1000\n",
    "pd.options.display.max_colwidth = 1000\n",
    "pd.options.display.max_columns = 1000"
   ]
  },
  {
   "cell_type": "markdown",
   "metadata": {},
   "source": [
    "### Stooq Index Data"
   ]
  },
  {
   "cell_type": "code",
   "execution_count": 3,
   "metadata": {
    "execution": {
     "iopub.execute_input": "2021-01-12T05:21:14.009144Z",
     "iopub.status.busy": "2021-01-12T05:21:14.008526Z",
     "iopub.status.idle": "2021-01-12T05:21:14.905169Z",
     "shell.execute_reply": "2021-01-12T05:21:14.904592Z"
    }
   },
   "outputs": [
    {
     "data": {
      "text/html": [
       "<div>\n",
       "<style scoped>\n",
       "    .dataframe tbody tr th:only-of-type {\n",
       "        vertical-align: middle;\n",
       "    }\n",
       "\n",
       "    .dataframe tbody tr th {\n",
       "        vertical-align: top;\n",
       "    }\n",
       "\n",
       "    .dataframe thead th {\n",
       "        text-align: right;\n",
       "    }\n",
       "</style>\n",
       "<table border=\"1\" class=\"dataframe\">\n",
       "  <thead>\n",
       "    <tr style=\"text-align: right;\">\n",
       "      <th></th>\n",
       "      <th>Open</th>\n",
       "      <th>High</th>\n",
       "      <th>Low</th>\n",
       "      <th>Close</th>\n",
       "      <th>Volume</th>\n",
       "    </tr>\n",
       "    <tr>\n",
       "      <th>Date</th>\n",
       "      <th></th>\n",
       "      <th></th>\n",
       "      <th></th>\n",
       "      <th></th>\n",
       "      <th></th>\n",
       "    </tr>\n",
       "  </thead>\n",
       "  <tbody>\n",
       "    <tr>\n",
       "      <th>2016-01-21</th>\n",
       "      <td>15768.87</td>\n",
       "      <td>16038.59</td>\n",
       "      <td>15704.66</td>\n",
       "      <td>15882.68</td>\n",
       "      <td>145098046</td>\n",
       "    </tr>\n",
       "    <tr>\n",
       "      <th>2016-01-20</th>\n",
       "      <td>15989.45</td>\n",
       "      <td>15989.45</td>\n",
       "      <td>15450.56</td>\n",
       "      <td>15766.74</td>\n",
       "      <td>191887228</td>\n",
       "    </tr>\n",
       "    <tr>\n",
       "      <th>2016-01-19</th>\n",
       "      <td>16009.45</td>\n",
       "      <td>16171.96</td>\n",
       "      <td>15900.25</td>\n",
       "      <td>16016.02</td>\n",
       "      <td>144420568</td>\n",
       "    </tr>\n",
       "    <tr>\n",
       "      <th>2016-01-15</th>\n",
       "      <td>16354.33</td>\n",
       "      <td>16354.33</td>\n",
       "      <td>15842.11</td>\n",
       "      <td>15988.08</td>\n",
       "      <td>239121129</td>\n",
       "    </tr>\n",
       "    <tr>\n",
       "      <th>2016-01-14</th>\n",
       "      <td>16159.01</td>\n",
       "      <td>16482.05</td>\n",
       "      <td>16075.12</td>\n",
       "      <td>16379.05</td>\n",
       "      <td>158887527</td>\n",
       "    </tr>\n",
       "  </tbody>\n",
       "</table>\n",
       "</div>"
      ],
      "text/plain": [
       "                Open      High       Low     Close     Volume\n",
       "Date                                                         \n",
       "2016-01-21  15768.87  16038.59  15704.66  15882.68  145098046\n",
       "2016-01-20  15989.45  15989.45  15450.56  15766.74  191887228\n",
       "2016-01-19  16009.45  16171.96  15900.25  16016.02  144420568\n",
       "2016-01-15  16354.33  16354.33  15842.11  15988.08  239121129\n",
       "2016-01-14  16159.01  16482.05  16075.12  16379.05  158887527"
      ]
     },
     "execution_count": 1,
     "metadata": {},
     "output_type": "execute_result"
    }
   ],
   "source": [
    "idx_data = web.DataReader(name=index_ticker, data_source='stooq', start=start, end=end)\n",
    "idx_data.tail()"
   ]
  },
  {
   "cell_type": "markdown",
   "metadata": {},
   "source": [
    "### Nasdaq Trader Symbol Definitions"
   ]
  },
  {
   "cell_type": "code",
   "execution_count": 4,
   "metadata": {
    "execution": {
     "iopub.execute_input": "2021-01-12T05:21:14.909129Z",
     "iopub.status.busy": "2021-01-12T05:21:14.908565Z",
     "iopub.status.idle": "2021-01-12T05:21:17.125216Z",
     "shell.execute_reply": "2021-01-12T05:21:17.124469Z"
    }
   },
   "outputs": [
    {
     "data": {
      "text/html": [
       "<div>\n",
       "<style scoped>\n",
       "    .dataframe tbody tr th:only-of-type {\n",
       "        vertical-align: middle;\n",
       "    }\n",
       "\n",
       "    .dataframe tbody tr th {\n",
       "        vertical-align: top;\n",
       "    }\n",
       "\n",
       "    .dataframe thead th {\n",
       "        text-align: right;\n",
       "    }\n",
       "</style>\n",
       "<table border=\"1\" class=\"dataframe\">\n",
       "  <thead>\n",
       "    <tr style=\"text-align: right;\">\n",
       "      <th></th>\n",
       "      <th>Nasdaq Traded</th>\n",
       "      <th>Security Name</th>\n",
       "      <th>Listing Exchange</th>\n",
       "      <th>Market Category</th>\n",
       "      <th>ETF</th>\n",
       "      <th>Round Lot Size</th>\n",
       "      <th>Test Issue</th>\n",
       "      <th>Financial Status</th>\n",
       "      <th>CQS Symbol</th>\n",
       "      <th>NASDAQ Symbol</th>\n",
       "      <th>NextShares</th>\n",
       "    </tr>\n",
       "    <tr>\n",
       "      <th>Symbol</th>\n",
       "      <th></th>\n",
       "      <th></th>\n",
       "      <th></th>\n",
       "      <th></th>\n",
       "      <th></th>\n",
       "      <th></th>\n",
       "      <th></th>\n",
       "      <th></th>\n",
       "      <th></th>\n",
       "      <th></th>\n",
       "      <th></th>\n",
       "    </tr>\n",
       "  </thead>\n",
       "  <tbody>\n",
       "    <tr>\n",
       "      <th>A</th>\n",
       "      <td>True</td>\n",
       "      <td>Agilent Technologies, Inc. Common Stock</td>\n",
       "      <td>N</td>\n",
       "      <td></td>\n",
       "      <td>False</td>\n",
       "      <td>100.0</td>\n",
       "      <td>False</td>\n",
       "      <td>NaN</td>\n",
       "      <td>A</td>\n",
       "      <td>A</td>\n",
       "      <td>False</td>\n",
       "    </tr>\n",
       "    <tr>\n",
       "      <th>AA</th>\n",
       "      <td>True</td>\n",
       "      <td>Alcoa Corporation Common Stock</td>\n",
       "      <td>N</td>\n",
       "      <td></td>\n",
       "      <td>False</td>\n",
       "      <td>100.0</td>\n",
       "      <td>False</td>\n",
       "      <td>NaN</td>\n",
       "      <td>AA</td>\n",
       "      <td>AA</td>\n",
       "      <td>False</td>\n",
       "    </tr>\n",
       "    <tr>\n",
       "      <th>AAA</th>\n",
       "      <td>True</td>\n",
       "      <td>Listed Funds Trust AAF First Priority CLO Bond ETF</td>\n",
       "      <td>P</td>\n",
       "      <td></td>\n",
       "      <td>True</td>\n",
       "      <td>100.0</td>\n",
       "      <td>False</td>\n",
       "      <td>NaN</td>\n",
       "      <td>AAA</td>\n",
       "      <td>AAA</td>\n",
       "      <td>False</td>\n",
       "    </tr>\n",
       "    <tr>\n",
       "      <th>AAAU</th>\n",
       "      <td>True</td>\n",
       "      <td>Goldman Sachs Physical Gold ETF Shares</td>\n",
       "      <td>P</td>\n",
       "      <td></td>\n",
       "      <td>True</td>\n",
       "      <td>100.0</td>\n",
       "      <td>False</td>\n",
       "      <td>NaN</td>\n",
       "      <td>AAAU</td>\n",
       "      <td>AAAU</td>\n",
       "      <td>False</td>\n",
       "    </tr>\n",
       "    <tr>\n",
       "      <th>AACG</th>\n",
       "      <td>True</td>\n",
       "      <td>ATA Creativity Global - American Depositary Shares, each representing two common shares</td>\n",
       "      <td>Q</td>\n",
       "      <td>G</td>\n",
       "      <td>False</td>\n",
       "      <td>100.0</td>\n",
       "      <td>False</td>\n",
       "      <td>N</td>\n",
       "      <td>NaN</td>\n",
       "      <td>AACG</td>\n",
       "      <td>False</td>\n",
       "    </tr>\n",
       "  </tbody>\n",
       "</table>\n",
       "</div>"
      ],
      "text/plain": [
       "        Nasdaq Traded                                                                            Security Name Listing Exchange Market Category    ETF  Round Lot Size  Test Issue Financial Status CQS Symbol NASDAQ Symbol  NextShares\n",
       "Symbol                                                                                                                                                                                                                                  \n",
       "A                True                                                  Agilent Technologies, Inc. Common Stock                N                  False           100.0       False              NaN          A             A       False\n",
       "AA               True                                                          Alcoa Corporation Common Stock                 N                  False           100.0       False              NaN         AA            AA       False\n",
       "AAA              True                                       Listed Funds Trust AAF First Priority CLO Bond ETF                P                   True           100.0       False              NaN        AAA           AAA       False\n",
       "AAAU             True                                                   Goldman Sachs Physical Gold ETF Shares                P                   True           100.0       False              NaN       AAAU          AAAU       False\n",
       "AACG             True  ATA Creativity Global - American Depositary Shares, each representing two common shares                Q               G  False           100.0       False                N        NaN          AACG       False"
      ]
     },
     "execution_count": 1,
     "metadata": {},
     "output_type": "execute_result"
    }
   ],
   "source": [
    "symbols = get_nasdaq_symbols()\n",
    "symbols.head()"
   ]
  },
  {
   "cell_type": "markdown",
   "metadata": {},
   "source": [
    "### Alpha Vantage Stock Data"
   ]
  },
  {
   "cell_type": "code",
   "execution_count": 5,
   "metadata": {
    "execution": {
     "iopub.execute_input": "2021-01-12T05:21:17.128575Z",
     "iopub.status.busy": "2021-01-12T05:21:17.128039Z",
     "iopub.status.idle": "2021-01-12T05:21:17.132853Z",
     "shell.execute_reply": "2021-01-12T05:21:17.132280Z"
    },
    "scrolled": true
   },
   "outputs": [],
   "source": [
    "# api_key = ecfg.get_env_config().get(ecfg.Prop.AV_API_KEY)\n",
    "# stock_data = web.DataReader(name=ticker, data_source='av-daily-adjusted', start=start, end=end, api_key=api_key)\n",
    "# stock_data.head()"
   ]
  },
  {
   "cell_type": "code",
   "execution_count": null,
   "metadata": {},
   "outputs": [],
   "source": []
  }
 ],
 "metadata": {
  "kernelspec": {
   "display_name": "Python 3",
   "language": "python",
   "name": "python3"
  },
  "language_info": {
   "codemirror_mode": {
    "name": "ipython",
    "version": 3
   },
   "file_extension": ".py",
   "mimetype": "text/x-python",
   "name": "python",
   "nbconvert_exporter": "python",
   "pygments_lexer": "ipython3",
   "version": "3.6.12"
  },
  "title": "pandas_datareader"
 },
 "nbformat": 4,
 "nbformat_minor": 4
}
